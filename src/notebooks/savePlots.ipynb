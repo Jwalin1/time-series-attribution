{
  "nbformat": 4,
  "nbformat_minor": 0,
  "metadata": {
    "colab": {
      "name": "ts_attrib.ipynb",
      "provenance": [],
      "collapsed_sections": []
    },
    "kernelspec": {
      "name": "python3",
      "display_name": "Python 3"
    },
    "language_info": {
      "name": "python"
    },
    "widgets": {
      "application/vnd.jupyter.widget-state+json": {
        "38835da788a749e8bfb3fa279af204c1": {
          "model_module": "@jupyter-widgets/controls",
          "model_name": "HBoxModel",
          "state": {
            "_view_name": "HBoxView",
            "_dom_classes": [],
            "_model_name": "HBoxModel",
            "_view_module": "@jupyter-widgets/controls",
            "_model_module_version": "1.5.0",
            "_view_count": null,
            "_view_module_version": "1.5.0",
            "box_style": "",
            "layout": "IPY_MODEL_2c31b58952b140d59fd50db3cb5938f1",
            "_model_module": "@jupyter-widgets/controls",
            "children": [
              "IPY_MODEL_34ca2f9349d94416943ba2eaee76f0af",
              "IPY_MODEL_7f82b25f9bd74349871fdf01f608541e"
            ]
          }
        },
        "2c31b58952b140d59fd50db3cb5938f1": {
          "model_module": "@jupyter-widgets/base",
          "model_name": "LayoutModel",
          "state": {
            "_view_name": "LayoutView",
            "grid_template_rows": null,
            "right": null,
            "justify_content": null,
            "_view_module": "@jupyter-widgets/base",
            "overflow": null,
            "_model_module_version": "1.2.0",
            "_view_count": null,
            "flex_flow": null,
            "width": null,
            "min_width": null,
            "border": null,
            "align_items": null,
            "bottom": null,
            "_model_module": "@jupyter-widgets/base",
            "top": null,
            "grid_column": null,
            "overflow_y": null,
            "overflow_x": null,
            "grid_auto_flow": null,
            "grid_area": null,
            "grid_template_columns": null,
            "flex": null,
            "_model_name": "LayoutModel",
            "justify_items": null,
            "grid_row": null,
            "max_height": null,
            "align_content": null,
            "visibility": null,
            "align_self": null,
            "height": null,
            "min_height": null,
            "padding": null,
            "grid_auto_rows": null,
            "grid_gap": null,
            "max_width": null,
            "order": null,
            "_view_module_version": "1.2.0",
            "grid_template_areas": null,
            "object_position": null,
            "object_fit": null,
            "grid_auto_columns": null,
            "margin": null,
            "display": null,
            "left": null
          }
        },
        "34ca2f9349d94416943ba2eaee76f0af": {
          "model_module": "@jupyter-widgets/controls",
          "model_name": "FloatProgressModel",
          "state": {
            "_view_name": "ProgressView",
            "style": "IPY_MODEL_6ef1f30e6fe04f5f869490635b5a6d5b",
            "_dom_classes": [],
            "description": "datasets: 100%",
            "_model_name": "FloatProgressModel",
            "bar_style": "",
            "max": 1,
            "_view_module": "@jupyter-widgets/controls",
            "_model_module_version": "1.5.0",
            "value": 1,
            "_view_count": null,
            "_view_module_version": "1.5.0",
            "orientation": "horizontal",
            "min": 0,
            "description_tooltip": null,
            "_model_module": "@jupyter-widgets/controls",
            "layout": "IPY_MODEL_759dd485a2fb481f95ae2bb7acb40e3b"
          }
        },
        "7f82b25f9bd74349871fdf01f608541e": {
          "model_module": "@jupyter-widgets/controls",
          "model_name": "HTMLModel",
          "state": {
            "_view_name": "HTMLView",
            "style": "IPY_MODEL_b8b04958d2e74dacbead2d2fff0920fc",
            "_dom_classes": [],
            "description": "",
            "_model_name": "HTMLModel",
            "placeholder": "​",
            "_view_module": "@jupyter-widgets/controls",
            "_model_module_version": "1.5.0",
            "value": " 1/1 [00:01&lt;00:00,  1.02s/it]",
            "_view_count": null,
            "_view_module_version": "1.5.0",
            "description_tooltip": null,
            "_model_module": "@jupyter-widgets/controls",
            "layout": "IPY_MODEL_54754a8d3d77429fb73e707bf85bcc0d"
          }
        },
        "6ef1f30e6fe04f5f869490635b5a6d5b": {
          "model_module": "@jupyter-widgets/controls",
          "model_name": "ProgressStyleModel",
          "state": {
            "_view_name": "StyleView",
            "_model_name": "ProgressStyleModel",
            "description_width": "initial",
            "_view_module": "@jupyter-widgets/base",
            "_model_module_version": "1.5.0",
            "_view_count": null,
            "_view_module_version": "1.2.0",
            "bar_color": null,
            "_model_module": "@jupyter-widgets/controls"
          }
        },
        "759dd485a2fb481f95ae2bb7acb40e3b": {
          "model_module": "@jupyter-widgets/base",
          "model_name": "LayoutModel",
          "state": {
            "_view_name": "LayoutView",
            "grid_template_rows": null,
            "right": null,
            "justify_content": null,
            "_view_module": "@jupyter-widgets/base",
            "overflow": null,
            "_model_module_version": "1.2.0",
            "_view_count": null,
            "flex_flow": null,
            "width": null,
            "min_width": null,
            "border": null,
            "align_items": null,
            "bottom": null,
            "_model_module": "@jupyter-widgets/base",
            "top": null,
            "grid_column": null,
            "overflow_y": null,
            "overflow_x": null,
            "grid_auto_flow": null,
            "grid_area": null,
            "grid_template_columns": null,
            "flex": null,
            "_model_name": "LayoutModel",
            "justify_items": null,
            "grid_row": null,
            "max_height": null,
            "align_content": null,
            "visibility": null,
            "align_self": null,
            "height": null,
            "min_height": null,
            "padding": null,
            "grid_auto_rows": null,
            "grid_gap": null,
            "max_width": null,
            "order": null,
            "_view_module_version": "1.2.0",
            "grid_template_areas": null,
            "object_position": null,
            "object_fit": null,
            "grid_auto_columns": null,
            "margin": null,
            "display": null,
            "left": null
          }
        },
        "b8b04958d2e74dacbead2d2fff0920fc": {
          "model_module": "@jupyter-widgets/controls",
          "model_name": "DescriptionStyleModel",
          "state": {
            "_view_name": "StyleView",
            "_model_name": "DescriptionStyleModel",
            "description_width": "",
            "_view_module": "@jupyter-widgets/base",
            "_model_module_version": "1.5.0",
            "_view_count": null,
            "_view_module_version": "1.2.0",
            "_model_module": "@jupyter-widgets/controls"
          }
        },
        "54754a8d3d77429fb73e707bf85bcc0d": {
          "model_module": "@jupyter-widgets/base",
          "model_name": "LayoutModel",
          "state": {
            "_view_name": "LayoutView",
            "grid_template_rows": null,
            "right": null,
            "justify_content": null,
            "_view_module": "@jupyter-widgets/base",
            "overflow": null,
            "_model_module_version": "1.2.0",
            "_view_count": null,
            "flex_flow": null,
            "width": null,
            "min_width": null,
            "border": null,
            "align_items": null,
            "bottom": null,
            "_model_module": "@jupyter-widgets/base",
            "top": null,
            "grid_column": null,
            "overflow_y": null,
            "overflow_x": null,
            "grid_auto_flow": null,
            "grid_area": null,
            "grid_template_columns": null,
            "flex": null,
            "_model_name": "LayoutModel",
            "justify_items": null,
            "grid_row": null,
            "max_height": null,
            "align_content": null,
            "visibility": null,
            "align_self": null,
            "height": null,
            "min_height": null,
            "padding": null,
            "grid_auto_rows": null,
            "grid_gap": null,
            "max_width": null,
            "order": null,
            "_view_module_version": "1.2.0",
            "grid_template_areas": null,
            "object_position": null,
            "object_fit": null,
            "grid_auto_columns": null,
            "margin": null,
            "display": null,
            "left": null
          }
        }
      }
    }
  },
  "cells": [
    {
      "cell_type": "code",
      "metadata": {
        "id": "W8WpNLhPs05Y",
        "colab": {
          "base_uri": "https://localhost:8080/"
        },
        "outputId": "7bbab41e-5773-4e84-8689-eccfa3d0304c"
      },
      "source": [
        "!pip install captum"
      ],
      "execution_count": 6,
      "outputs": [
        {
          "output_type": "stream",
          "text": [
            "Installing collected packages: captum\n",
            "Successfully installed captum-0.4.0\n"
          ],
          "name": "stdout"
        }
      ]
    },
    {
      "cell_type": "code",
      "metadata": {
        "id": "M_yK00a7UtdK"
      },
      "source": [
        "!unzip time-series-attribution-master.zip"
      ],
      "execution_count": null,
      "outputs": []
    },
    {
      "cell_type": "code",
      "metadata": {
        "id": "KvpRfZ9lkZCq"
      },
      "source": [
        "!rm -rf /content/time-series-attribution/results/plots"
      ],
      "execution_count": 31,
      "outputs": []
    },
    {
      "cell_type": "markdown",
      "metadata": {
        "id": "P_v8IDOveZ5U"
      },
      "source": [
        "### show one plot"
      ]
    },
    {
      "cell_type": "code",
      "metadata": {
        "colab": {
          "base_uri": "https://localhost:8080/",
          "height": 437,
          "referenced_widgets": [
            "38835da788a749e8bfb3fa279af204c1",
            "2c31b58952b140d59fd50db3cb5938f1",
            "34ca2f9349d94416943ba2eaee76f0af",
            "7f82b25f9bd74349871fdf01f608541e",
            "6ef1f30e6fe04f5f869490635b5a6d5b",
            "759dd485a2fb481f95ae2bb7acb40e3b",
            "b8b04958d2e74dacbead2d2fff0920fc",
            "54754a8d3d77429fb73e707bf85bcc0d"
          ]
        },
        "id": "hUoMVVA9LhFw",
        "outputId": "be675a81-fb99-4661-ae80-777cefabf817"
      },
      "source": [
        "%cd /content/time-series-attribution/src/notebooks\n",
        "\n",
        "%run ../scripts/main.py  --visEvalParams '{\"datasets\":[\"CharacterTrajectories\"], \\\n",
        "                                            \"rand_layer\":\"0\", \\\n",
        "                                            \"approach\":None, \\\n",
        "                                            \"perc\":80,  \\\n",
        "                                            \"method\":None, \\\n",
        "                                            }'  \\"
      ],
      "execution_count": 37,
      "outputs": [
        {
          "output_type": "stream",
          "text": [
            "/content/time-series-attribution/src/notebooks\n",
            "cpu\n"
          ],
          "name": "stdout"
        },
        {
          "output_type": "display_data",
          "data": {
            "application/vnd.jupyter.widget-view+json": {
              "model_id": "38835da788a749e8bfb3fa279af204c1",
              "version_minor": 0,
              "version_major": 2
            },
            "text/plain": [
              "HBox(children=(FloatProgress(value=0.0, description='datasets', max=1.0, style=ProgressStyle(description_width…"
            ]
          },
          "metadata": {
            "tags": []
          }
        },
        {
          "output_type": "display_data",
          "data": {
            "text/plain": [
              "<Figure size 432x288 with 0 Axes>"
            ]
          },
          "metadata": {
            "tags": []
          }
        },
        {
          "output_type": "display_data",
          "data": {
            "image/png": "[encoded data removed]",
            "text/plain": [
              "<Figure size 432x288 with 1 Axes>"
            ]
          },
          "metadata": {
            "tags": [],
            "needs_background": "light"
          }
        },
        {
          "output_type": "stream",
          "text": [
            "\r"
          ],
          "name": "stdout"
        }
      ]
    },
    {
      "cell_type": "markdown",
      "metadata": {
        "id": "uUbCtPm1ecxy"
      },
      "source": [
        "### save all plots"
      ]
    },
    {
      "cell_type": "code",
      "metadata": {
        "id": "baQHWckd0zpy"
      },
      "source": [
        "%cd /content/time-series-attribution/src/notebooks\n",
        "\n",
        "import itertools\n",
        "from tqdm.auto import tqdm\n",
        "\n",
        "params = [\"rand_layer\", \"method\", \"approach\", \"perc\"]\n",
        "all_params = {\"method\":[\"Saliency\", \"IntegratedGradients\", \"InputXGradient\", \"GuidedBackprop\", \"LayerGradCam\", \"GuidedGradCam\", \"Lime\", \"GradCAMpp\", \"SmoothGradCAMpp\", \"ScoreCAM\", \"RISE\"],\n",
        "              \"approach\":[\"replaceWithZero_most\", \"replaceWithMean_most\", \"replaceWithInterp_most\"],\n",
        "              \"rand_layer\":[0,-1,-2,-3],\n",
        "              \"perc\":[95,90,85,80]\n",
        "              }\n",
        "\n",
        "for param1 in tqdm(params, desc=\"param1\", leave=False):\n",
        "  for param2 in tqdm(params, desc=\"param2\", leave=False):\n",
        "    if param1 != param2:\n",
        "      visEvalParams = {\"dataset\":None, param1:None, param2:None}  # set 2 params to None\n",
        "\n",
        "      new_params = list(params)\n",
        "      new_params.remove(param1); new_params.remove(param2)\n",
        "      new_params1 = [all_params[param] for param in new_params]\n",
        "      # generate a list of all param combinations\n",
        "      allParamCombs = list(itertools.product(*new_params1))\n",
        "\n",
        "      for paramComb in tqdm(allParamCombs, desc=\"paramComb\", leave=False):\n",
        "        visEvalParams1 = dict(visEvalParams)\n",
        "        for paramName, param3 in zip(new_params, paramComb):\n",
        "          visEvalParams1[paramName] = param3\n",
        "        visEvalParams1 = '\"' + str(visEvalParams1) + '\"'\n",
        "\n",
        "        %run ../scripts/main.py  --visEvalParams $visEvalParams1  \\\n",
        "                                 --save True\n",
        "        %cd /content/time-series-attribution/src/notebooks"
      ],
      "execution_count": null,
      "outputs": []
    },
    {
      "cell_type": "code",
      "metadata": {
        "id": "g9W-dSVTq8zg"
      },
      "source": [
        "!zip -r /content/plts.zip /content/time-series-attribution/results/plots"
      ],
      "execution_count": null,
      "outputs": []
    },
    {
      "cell_type": "code",
      "metadata": {
        "id": "-IoOJEZHv5Kc"
      },
      "source": [
        "# to merge results of different datasets to one dict\n",
        "\n",
        "import os\n",
        "import json\n",
        "os.chdir(\"/content/results\")\n",
        "\n",
        "mydict = {}\n",
        "for file in os.listdir():\n",
        "  fname = file[:file.index('_')]\n",
        "  with open(file) as json_file:\n",
        "    data = json.load(json_file)\n",
        "  mydict[fname] = data\n",
        "  \n",
        "with open(\"mydict.json\",\"w\") as f:\n",
        "  json.dump(mydict,f)"
      ],
      "execution_count": null,
      "outputs": []
    }
  ]
}